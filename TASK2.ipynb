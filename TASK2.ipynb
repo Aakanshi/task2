{
 "cells": [
  {
   "cell_type": "code",
   "execution_count": null,
   "id": "794405e8-2b1a-4841-8eb4-f3a6af645f60",
   "metadata": {},
   "outputs": [],
   "source": [
    "#task2\n",
    "\n",
    "import numpy as np\n",
    "import pandas as pd\n",
    "import matplotlib.pyplot as plt\n",
    "from sklearn.cluster import KMeans\n",
    "from sklearn.preprocessing import StandardScaler\n",
    "\n",
    "data = {\n",
    "    'customer_id': [1, 2, 3, 4, 5, 6, 7, 8, 9, 10],\n",
    "    'total_purchase': [3000, 1500, 2000, 3500, 800, 4000, 1200, 1600, 2700, 3100],\n",
    "    'frequency_of_visits': [30, 20, 25, 35, 10, 40, 15, 22, 28, 33],\n",
    "    'average_spending': [100, 75, 80, 100, 80, 120, 60, 72, 96, 94]\n",
    "}\n",
    "\n",
    "\n",
    "df = pd.DataFrame(data)\n",
    "\n",
    "\n",
    "X = df[['total_purchase', 'frequency_of_visits', 'average_spending']]\n",
    "\n",
    "scaler = StandardScaler()\n",
    "X_scaled = scaler.fit_transform(X)\n",
    "\n",
    "kmeans = KMeans(n_clusters=3, random_state=42)\n",
    "df['cluster'] = kmeans.fit_predict(X_scaled)\n",
    "\n",
    "plt.figure(figsize=(8, 6))\n",
    "plt.scatter(df['total_purchase'], df['frequency_of_visits'], c=df['cluster'], cmap='viridis')\n",
    "plt.xlabel('Total Purchase')\n",
    "plt.ylabel('Frequency of Visits')\n",
    "plt.title('K-Means Clustering of Customers')\n",
    "plt.colorbar(label='Cluster')\n",
    "plt.show()\n",
    "\n",
    "centroids = kmeans.cluster_centers_\n",
    "print(\"Cluster centroids:\\n\", centroids)\n",
    "\n",
    "\n",
    "print(\"Cluster assignment for each customer:\\n\", df[['customer_id', 'cluster']])\n",
    "\n"
   ]
  }
 ],
 "metadata": {
  "kernelspec": {
   "display_name": "Python 3 (ipykernel)",
   "language": "python",
   "name": "python3"
  },
  "language_info": {
   "codemirror_mode": {
    "name": "ipython",
    "version": 3
   },
   "file_extension": ".py",
   "mimetype": "text/x-python",
   "name": "python",
   "nbconvert_exporter": "python",
   "pygments_lexer": "ipython3",
   "version": "3.12.4"
  }
 },
 "nbformat": 4,
 "nbformat_minor": 5
}
